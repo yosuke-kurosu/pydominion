{
 "cells": [
  {
   "cell_type": "code",
   "execution_count": 98,
   "metadata": {},
   "outputs": [],
   "source": [
    "import random\n",
    "import matplotlib.pyplot as plt"
   ]
  },
  {
   "cell_type": "code",
   "execution_count": 99,
   "metadata": {},
   "outputs": [],
   "source": [
    "def reshuffle(deck, trash):\n",
    "    random.shuffle(trash)\n",
    "    if len(deck) == 0:\n",
    "        deck = trash\n",
    "    else:\n",
    "        deck.extend(trash)\n",
    "    # 捨札の初期化をする処理\n",
    "    trash = []\n",
    "    return deck, trash "
   ]
  },
  {
   "cell_type": "code",
   "execution_count": 100,
   "metadata": {},
   "outputs": [],
   "source": [
    "def smith(hand, deck, trash):\n",
    "    if len(deck) <= 3:\n",
    "        deck, trash = reshuffle(deck, trash)\n",
    "    else:\n",
    "        pass\n",
    "    hand.extend(deck[:3])\n",
    "    del deck[:3]\n",
    "    return hand, deck, trash"
   ]
  },
  {
   "cell_type": "code",
   "execution_count": 101,
   "metadata": {},
   "outputs": [],
   "source": [
    "def purchase_phase(hand, trash, province, s_flag, g_flag, s_thresh, g_thresh):\n",
    "    money = sum([i for i in hand if str.isdigit(str(i))])\n",
    "    if money >= 8 and g_flag >= g_thresh:\n",
    "            trash.insert(0, 0)\n",
    "            province += 1\n",
    "    else:\n",
    "        if money >= 6:\n",
    "            trash.insert(0, 3)\n",
    "            g_flag += 1\n",
    "        else:\n",
    "            if (money == 4 or money == 5) and s_flag < s_thresh:\n",
    "                trash.insert(0, 's')\n",
    "                s_flag += 1 # 以降鍛冶屋を買わない\n",
    "            else:\n",
    "                if money == 3 or money == 4 or money == 5:\n",
    "                    trash.insert(0, 2)\n",
    "                else:\n",
    "                    pass\n",
    "    return trash, province, s_flag, g_flag"
   ]
  },
  {
   "cell_type": "code",
   "execution_count": 102,
   "metadata": {},
   "outputs": [],
   "source": [
    "def cleanup_phase(hand, deck, trash):\n",
    "    trash.extend(hand)\n",
    "    if len(deck) <= 4:\n",
    "        # デッキの残りと捨札を混ぜて新しいデッキを作成する処理\n",
    "        deck, trash = reshuffle(deck, trash)\n",
    "    return deck, trash"
   ]
  },
  {
   "cell_type": "code",
   "execution_count": 106,
   "metadata": {},
   "outputs": [],
   "source": [
    "def game(s_thresh, g_thresh):\n",
    "    \"\"\"\n",
    "    入力\n",
    "    - s_thresh : smith_threshold_valueの略、鍛冶屋を何枚購入するか \n",
    "    - g_thresh : glod_threshold_valueの略、8金以上でたときに何枚金貨を獲得していたら属州を購入するか\n",
    "    \n",
    "    出力\n",
    "    - turn : 属州4枚獲得するのに経過したターン数\n",
    "    \"\"\"\n",
    "    deck = [1, 1, 1, 1, 1, 1, 1, 0, 0, 0] #デッキの初期化\n",
    "    trash = [] #捨て札の初期化\n",
    "    province = 0 #属州の枚数の初期化\n",
    "    s_flag = 0 # 鍛冶屋フラグの初期化\n",
    "    g_flag = 0 # 金貨取得枚数の初期化\n",
    "    turn = 1 # ターン数の初期化：スタート値:1\n",
    "    random.shuffle(deck) #デッキのシャッフル\n",
    "    while province < 4: #属州を4枚獲得したらストップする\n",
    "        # 5枚引く動き\n",
    "        hand = deck[:5].copy()\n",
    "        # デッキから5枚削除する\n",
    "        del deck[:5]\n",
    "        \n",
    "        # アクションフェーズ：鍛冶屋があれば使用する\n",
    "        if 's' in hand:\n",
    "            hand, deck, trash = smith(hand, deck, trash)\n",
    "        \n",
    "        # 購入フェイズ           \n",
    "        trash, province, s_flag, g_flag = purchase_phase(hand, trash, province, s_flag, g_flag, s_thresh, g_thresh)\n",
    "        \n",
    "        # 5枚ドローを除いたクリーンアップフェイズ\n",
    "        deck, trash = cleanup_phase(hand, deck, trash)\n",
    "\n",
    "        turn += 1 #turn数の追加\n",
    "    return turn"
   ]
  },
  {
   "cell_type": "code",
   "execution_count": 134,
   "metadata": {},
   "outputs": [],
   "source": [
    "onlymoney = [game(0, 2) for i in range(10000)]\n",
    "smith1 = [game(1, 2) for i in range(10000)]\n",
    "smith2 = [game(2, 2) for i in range(10000)]\n",
    "smith3 = [game(3, 2) for i in range(10000)]"
   ]
  },
  {
   "cell_type": "code",
   "execution_count": 138,
   "metadata": {},
   "outputs": [
    {
     "data": {
      "image/png": "[encoded data removed]",
      "text/plain": [
       "<Figure size 720x720 with 4 Axes>"
      ]
     },
     "metadata": {
      "needs_background": "light"
     },
     "output_type": "display_data"
    }
   ],
   "source": [
    "fig, axs = plt.subplots(4, 1, figsize=(10, 10))\n",
    "axs = axs.ravel()\n",
    "axs[0].hist(onlymoney, label='only-money', color='blue')\n",
    "axs[0].legend(loc='upper left')\n",
    "axs[1].hist(smith1, label='smith_1', color='red')\n",
    "axs[1].legend(loc='upper left')\n",
    "axs[2].hist(smith2, label='smith_2', color='green')\n",
    "axs[2].legend(loc='upper left')\n",
    "axs[3].hist(smith3, label='smith_3', color='orange')\n",
    "axs[3].legend(loc='upper left')\n",
    "plt.savefig('dominion.png')"
   ]
  }
 ],
 "metadata": {
  "kernelspec": {
   "display_name": "Python 3",
   "language": "python",
   "name": "python3"
  },
  "language_info": {
   "codemirror_mode": {
    "name": "ipython",
    "version": 3
   },
   "file_extension": ".py",
   "mimetype": "text/x-python",
   "name": "python",
   "nbconvert_exporter": "python",
   "pygments_lexer": "ipython3",
   "version": "3.6.7"
  }
 },
 "nbformat": 4,
 "nbformat_minor": 2
}
